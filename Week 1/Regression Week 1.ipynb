{
 "cells": [
  {
   "cell_type": "markdown",
   "metadata": {},
   "source": [
    "# Coursera University of Washington - Machine Learning Specialisation \n",
    "\n",
    "## 2. Regression: Week 1 Assignment "
   ]
  },
  {
   "cell_type": "markdown",
   "metadata": {},
   "source": [
    "### Load Data"
   ]
  },
  {
   "cell_type": "code",
   "execution_count": 42,
   "metadata": {
    "collapsed": false
   },
   "outputs": [
    {
     "name": "stdout",
     "output_type": "stream",
     "text": [
      "False\n",
      "True\n"
     ]
    }
   ],
   "source": [
    "## Load Data\n",
    "import pandas as pd\n",
    "import numpy as np\n",
    "import graphlab\n",
    "\n",
    "train_data = pd.read_csv('kc_house_train_data.csv')\n",
    "test_data = pd.read_csv('kc_house_test_data.csv')\n",
    "\n",
    "\n",
    "sales = graphlab.SFrame('kc_house_data.gl/')\n",
    "checktrain,checktest = sales.random_split(.8,seed=0)\n",
    "\n",
    "\n",
    "input1 = train_data['sqft_living']\n",
    "input2 = checktrain['sqft_living']\n",
    "output1= train_data['price']\n",
    "output2= checktrain['price']\n",
    "\n",
    "print output2.sum()==output1.sum()\n",
    "print input1.sum() ==input2.sum()"
   ]
  },
  {
   "cell_type": "markdown",
   "metadata": {},
   "source": [
    "### Building a simple linear regression (using closed form solution)\n",
    "\n",
    "###### Generic function that accepts a column of data (e.g, an SArray) ‘input_feature’ and another column ‘output’ and returns the Simple Linear Regression parameters ‘intercept’ and ‘slope’"
   ]
  },
  {
   "cell_type": "markdown",
   "metadata": {},
   "source": [
    "##### Calculating coefficients for model : price = f(sqft_living)"
   ]
  },
  {
   "cell_type": "code",
   "execution_count": 35,
   "metadata": {
    "collapsed": false
   },
   "outputs": [],
   "source": [
    "def simple_linear_regression(input_feature, output):\n",
    "#     #[your code here]\n",
    "    \n",
    "    #Create shorthand variable because I'm lazy to keep typing input_feature\n",
    "    input = input_feature\n",
    "    N=len(input)\n",
    "    \n",
    "#     #Calculate coefficient using closed-form solution \n",
    "#     sum_input = input.sum()\n",
    "#     sum_output = output.sum()\n",
    "    \n",
    "#     prod_output_input = output * input\n",
    "#     prodsum_output_input = prod_output_input.sum()\n",
    "    \n",
    "#     sq_input = input*input\n",
    "#     sumsq_input = sq_input.sum()\n",
    "    \n",
    "#     slope = (prodsum_output_input - sum_input*sum_output/N) / (sumsq_input - sum_input*sum_input/N)\n",
    "#     intercept = (sum_output / N) - slope * (sum_input/N)\n",
    "\n",
    "\n",
    "\n",
    "    input_sum = input_feature.sum()\n",
    "    output_sum = output.sum()\n",
    "\n",
    "    input_mean = input_sum/N\n",
    "    output_mean = output_sum/N\n",
    "    in_out_prod = input_feature * output\n",
    "    in_out_prod_sum = in_out_prod.sum()\n",
    "    prod_sum = output_sum * input_sum \n",
    "    prod_mean = prod_sum/N\n",
    "    sqr_test = input_feature * input_feature\n",
    "    sqr_test_sum = sqr_test.sum()\n",
    "    sqr_sum = input_sum * input_sum\n",
    "    sqr_mean = sqr_sum/N\n",
    "    slope = (in_out_prod_sum - prod_mean)/(sqr_test_sum - sqr_mean)\n",
    "    intercept = output_mean - (input_mean * slope)\n",
    "\n",
    "    return(intercept, slope)"
   ]
  },
  {
   "cell_type": "markdown",
   "metadata": {},
   "source": [
    "##### Function to calculate predictions"
   ]
  },
  {
   "cell_type": "code",
   "execution_count": 5,
   "metadata": {
    "collapsed": true
   },
   "outputs": [],
   "source": [
    "def get_regression_predictions(input_feature, intercept, slope):\n",
    "    predicted_values = intercept + slope * input_feature  \n",
    "    return predicted_values"
   ]
  },
  {
   "cell_type": "code",
   "execution_count": 36,
   "metadata": {
    "collapsed": false
   },
   "outputs": [
    {
     "name": "stdout",
     "output_type": "stream",
     "text": [
      "Intercept: -47107.7584919\n",
      "Slope: 281.958839628\n",
      "The estimated price for a house with 2650 squarefeet is $700083.17\n"
     ]
    }
   ],
   "source": [
    "#Pred 1 : Sqft_living = 2650\n",
    "sqft_intercept, sqft_slope = simple_linear_regression(train_data['sqft_living'], train_data['price'])\n",
    "my_house_sqft = 2650\n",
    "estimated_price = get_regression_predictions(my_house_sqft, sqft_intercept, sqft_slope)\n",
    "\n",
    "print \"Intercept: \" + str(sqft_intercept)\n",
    "print \"Slope: \" + str(sqft_slope)\n",
    "print \"The estimated price for a house with %d squarefeet is $%.2f\" % (my_house_sqft, estimated_price)"
   ]
  },
  {
   "cell_type": "markdown",
   "metadata": {},
   "source": [
    "### Getting Residual Sum of Squares for our simple linear regression"
   ]
  },
  {
   "cell_type": "code",
   "execution_count": 8,
   "metadata": {
    "collapsed": true
   },
   "outputs": [],
   "source": [
    "def get_residual_sum_of_squares(input_feature, output, intercept, slope):\n",
    "    predictions = intercept + slope * input_feature\n",
    "    sq_residuals = (output-predictions)**2\n",
    "    RSS = (sq_residuals).sum()\n",
    "    return(RSS)"
   ]
  },
  {
   "cell_type": "code",
   "execution_count": 10,
   "metadata": {
    "collapsed": false
   },
   "outputs": [
    {
     "name": "stdout",
     "output_type": "stream",
     "text": [
      "The RSS of predicting Prices based on Square Feet is : 1.20191835538e+15\n"
     ]
    }
   ],
   "source": [
    "rss_prices_on_sqft = get_residual_sum_of_squares(train_data['sqft_living'], train_data['price'], sqft_intercept, sqft_slope)\n",
    "print 'The RSS of predicting Prices based on Square Feet is : ' + str(rss_prices_on_sqft)"
   ]
  },
  {
   "cell_type": "code",
   "execution_count": 11,
   "metadata": {
    "collapsed": true
   },
   "outputs": [],
   "source": [
    "def inverse_regression_predictions(output, intercept, slope):\n",
    "    estimated_feature = (output - intercept) / slope\n",
    "    return estimated_feature"
   ]
  },
  {
   "cell_type": "code",
   "execution_count": 12,
   "metadata": {
    "collapsed": false
   },
   "outputs": [
    {
     "name": "stdout",
     "output_type": "stream",
     "text": [
      "The estimated squarefeet for a house worth $800000.00 is 3004\n"
     ]
    }
   ],
   "source": [
    "my_house_price = 800000\n",
    "estimated_squarefeet = inverse_regression_predictions(my_house_price, sqft_intercept, sqft_slope)\n",
    "print \"The estimated squarefeet for a house worth $%.2f is %d\" % (my_house_price, estimated_squarefeet)"
   ]
  },
  {
   "cell_type": "markdown",
   "metadata": {},
   "source": [
    "### New Model : Getting house prices using number of bedrooms"
   ]
  },
  {
   "cell_type": "code",
   "execution_count": 13,
   "metadata": {
    "collapsed": false
   },
   "outputs": [],
   "source": [
    "bdrm_intercept, bdrm_slope = simple_linear_regression(train_data['bedrooms'], train_data['price'])"
   ]
  },
  {
   "cell_type": "markdown",
   "metadata": {},
   "source": [
    "### Test model using test data.\n",
    "\n",
    "##### RSS of price = F(sqft_living)"
   ]
  },
  {
   "cell_type": "code",
   "execution_count": 14,
   "metadata": {
    "collapsed": false
   },
   "outputs": [
    {
     "data": {
      "text/plain": [
       "275402661246606.3"
      ]
     },
     "execution_count": 14,
     "metadata": {},
     "output_type": "execute_result"
    }
   ],
   "source": [
    "get_residual_sum_of_squares(test_data['sqft_living'],test_data['price'], sqft_intercept, sqft_slope)"
   ]
  },
  {
   "cell_type": "markdown",
   "metadata": {},
   "source": [
    "##### RSS of price = F(bedrooms)"
   ]
  },
  {
   "cell_type": "code",
   "execution_count": 15,
   "metadata": {
    "collapsed": false
   },
   "outputs": [
    {
     "data": {
      "text/plain": [
       "1531228594581504.2"
      ]
     },
     "execution_count": 15,
     "metadata": {},
     "output_type": "execute_result"
    }
   ],
   "source": [
    "get_residual_sum_of_squares(test_data['bedrooms'],test_data['bedrooms'],bdrm_intercept, bdrm_slope)"
   ]
  },
  {
   "cell_type": "code",
   "execution_count": null,
   "metadata": {
    "collapsed": true
   },
   "outputs": [],
   "source": []
  }
 ],
 "metadata": {
  "kernelspec": {
   "display_name": "Python 2",
   "language": "python",
   "name": "python2"
  },
  "language_info": {
   "codemirror_mode": {
    "name": "ipython",
    "version": 2
   },
   "file_extension": ".py",
   "mimetype": "text/x-python",
   "name": "python",
   "nbconvert_exporter": "python",
   "pygments_lexer": "ipython2",
   "version": "2.7.11"
  }
 },
 "nbformat": 4,
 "nbformat_minor": 0
}
